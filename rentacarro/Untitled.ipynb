{
 "cells": [
  {
   "cell_type": "code",
   "execution_count": null,
   "id": "447e25b5-b503-4568-a0f5-3260f0306c09",
   "metadata": {},
   "outputs": [],
   "source": [
    "import datetime"
   ]
  },
  {
   "cell_type": "code",
   "execution_count": null,
   "id": "b407bc7d-c1f2-489f-9292-94772f35cbf4",
   "metadata": {},
   "outputs": [],
   "source": [
    "ara=datetime.datetime.now()"
   ]
  },
  {
   "cell_type": "code",
   "execution_count": null,
   "id": "6eb5e5a1-d8e8-4c9b-87db-004a40ca4a5a",
   "metadata": {},
   "outputs": [],
   "source": [
    "print(ara)"
   ]
  },
  {
   "cell_type": "code",
   "execution_count": 3,
   "id": "c5300ee7-c8ea-405f-96f1-147f9c074502",
   "metadata": {},
   "outputs": [
    {
     "ename": "AttributeError",
     "evalue": "type object 'datetime.datetime' has no attribute 'tomorrow'",
     "output_type": "error",
     "traceback": [
      "\u001b[0;31m---------------------------------------------------------------------------\u001b[0m",
      "\u001b[0;31mAttributeError\u001b[0m                            Traceback (most recent call last)",
      "Cell \u001b[0;32mIn[3], line 3\u001b[0m\n\u001b[1;32m      1\u001b[0m \u001b[38;5;28;01mimport\u001b[39;00m \u001b[38;5;21;01mdatetime\u001b[39;00m\n\u001b[0;32m----> 3\u001b[0m ema\u001b[38;5;241m=\u001b[39m\u001b[43mdatetime\u001b[49m\u001b[38;5;241;43m.\u001b[39;49m\u001b[43mdatetime\u001b[49m\u001b[38;5;241;43m.\u001b[39;49m\u001b[43mtomorrow\u001b[49m()\n",
      "\u001b[0;31mAttributeError\u001b[0m: type object 'datetime.datetime' has no attribute 'tomorrow'"
     ]
    }
   ],
   "source": [
    "\n",
    "import datetime\n",
    "\n",
    "ema=datetime.datetime.tomorrow()"
   ]
  },
  {
   "cell_type": "code",
   "execution_count": 7,
   "id": "6a86c1a2-ea25-4fb7-83bf-5a63998403f7",
   "metadata": {},
   "outputs": [
    {
     "name": "stdout",
     "output_type": "stream",
     "text": [
      "2024-10-19 17:56:39.278915\n"
     ]
    }
   ],
   "source": [
    "from datetime import date, timedelta\n",
    "dema = datetime.datetime.today() + timedelta(days=1)\n",
    "print(dema)"
   ]
  },
  {
   "cell_type": "code",
   "execution_count": 10,
   "id": "d37f7e3c-844c-4de3-8c3d-bc7cfefd94a7",
   "metadata": {},
   "outputs": [
    {
     "name": "stdout",
     "output_type": "stream",
     "text": [
      "2024-10-19 17:56:39.278915\n"
     ]
    }
   ],
   "source": [
    "from datetime import date, timedelta\n",
    "pasatDema = date.today() + timedelta(days=2)\n",
    "print(dema)"
   ]
  },
  {
   "cell_type": "code",
   "execution_count": 11,
   "id": "f3f38a45-548e-4ea3-a5e4-9eed8164a7f3",
   "metadata": {},
   "outputs": [
    {
     "name": "stdout",
     "output_type": "stream",
     "text": [
      "Hoy: 2024-10-18\n",
      "Pasado mañana: 2024-10-20\n"
     ]
    }
   ],
   "source": [
    "from datetime import date, timedelta\n",
    "\n",
    "# Fecha de hoy\n",
    "hoy = date.today()\n",
    "print(\"Hoy:\", hoy)\n",
    "\n",
    "# Fecha de pasado mañana\n",
    "pasado_mañana = hoy + timedelta(days=2)\n",
    "print(\"Pasado mañana:\", pasado_mañana)\n"
   ]
  },
  {
   "cell_type": "code",
   "execution_count": null,
   "id": "9040bcd1-7bcd-46a9-976d-a8bb522ded7d",
   "metadata": {},
   "outputs": [],
   "source": []
  },
  {
   "cell_type": "code",
   "execution_count": null,
   "id": "a2b3b106-2364-408e-ac06-15c16c9a737d",
   "metadata": {},
   "outputs": [],
   "source": []
  },
  {
   "cell_type": "code",
   "execution_count": null,
   "id": "8a1517f9-fd68-471f-b5d8-1a5b9d401528",
   "metadata": {},
   "outputs": [],
   "source": []
  }
 ],
 "metadata": {
  "kernelspec": {
   "display_name": "Python 3 (ipykernel)",
   "language": "python",
   "name": "python3"
  },
  "language_info": {
   "codemirror_mode": {
    "name": "ipython",
    "version": 3
   },
   "file_extension": ".py",
   "mimetype": "text/x-python",
   "name": "python",
   "nbconvert_exporter": "python",
   "pygments_lexer": "ipython3",
   "version": "3.12.6"
  }
 },
 "nbformat": 4,
 "nbformat_minor": 5
}

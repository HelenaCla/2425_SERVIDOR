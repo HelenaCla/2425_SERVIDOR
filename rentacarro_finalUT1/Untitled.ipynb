{
 "cells": [
  {
   "cell_type": "code",
   "execution_count": 1,
   "id": "2c25b804-a842-46d4-b0c0-de2485a1d24e",
   "metadata": {},
   "outputs": [],
   "source": [
    "import datetime"
   ]
  },
  {
   "cell_type": "code",
   "execution_count": 2,
   "id": "3bab4b78-3a86-45f2-bd8c-06d2255b556c",
   "metadata": {},
   "outputs": [],
   "source": [
    "ara=datetime.datetime.now()"
   ]
  },
  {
   "cell_type": "code",
   "execution_count": 5,
   "id": "3913dfd6-8923-4af9-80c5-0631749e5ba0",
   "metadata": {
    "scrolled": true
   },
   "outputs": [
    {
     "name": "stdout",
     "output_type": "stream",
     "text": [
      "2024-10-18 20:42:01.728659\n"
     ]
    }
   ],
   "source": [
    "print(ara)"
   ]
  },
  {
   "cell_type": "markdown",
   "id": "e99bb621-7f9d-4b21-9a17-44a320e8eff2",
   "metadata": {},
   "source": [
    "Vaig a treure el texte (String) del dia de demà\n",
    "en format DD-MM-YYYY"
   ]
  },
  {
   "cell_type": "code",
   "execution_count": 4,
   "id": "3aa78804-f91e-44ac-8ca6-18374bedb395",
   "metadata": {},
   "outputs": [],
   "source": [
    "ara+=datetime.timedelta(hours=3)"
   ]
  },
  {
   "cell_type": "code",
   "execution_count": null,
   "id": "98087873-bff0-4ca1-892d-ed0f4c7af130",
   "metadata": {},
   "outputs": [],
   "source": []
  }
 ],
 "metadata": {
  "kernelspec": {
   "display_name": "Python 3 (ipykernel)",
   "language": "python",
   "name": "python3"
  },
  "language_info": {
   "codemirror_mode": {
    "name": "ipython",
    "version": 3
   },
   "file_extension": ".py",
   "mimetype": "text/x-python",
   "name": "python",
   "nbconvert_exporter": "python",
   "pygments_lexer": "ipython3",
   "version": "3.10.4"
  }
 },
 "nbformat": 4,
 "nbformat_minor": 5
}

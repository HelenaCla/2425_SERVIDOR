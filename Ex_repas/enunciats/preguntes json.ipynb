{
 "cells": [
  {
   "cell_type": "markdown",
   "id": "9d987096",
   "metadata": {},
   "source": [
    "# Preguntes de Manipulació de JSON en Python (Nivell Intermedi i Avançat)"
   ]
  },
  {
   "cell_type": "markdown",
   "id": "ee0dc6c0",
   "metadata": {},
   "source": [
    "## Nivell Intermedi"
   ]
  },
  {
   "cell_type": "markdown",
   "id": "a93a47ec",
   "metadata": {},
   "source": [
    "**Pregunta 1:** Com pots convertir un diccionari a un string JSON?\n",
    "```python\n",
    "import json\n",
    "d = {'nom': 'Anna', 'edat': 25}\n",
    "json_string = json.dumps(d)\n",
    "print(json_string)\n",
    "```"
   ]
  },
  {
   "cell_type": "markdown",
   "id": "44e7dde1",
   "metadata": {},
   "source": [
    "- a) Converteix a string JSON - CORRECTE"
   ]
  },
  {
   "cell_type": "markdown",
   "id": "bb0aa1bd",
   "metadata": {},
   "source": [
    "- b) Error"
   ]
  },
  {
   "cell_type": "markdown",
   "id": "3763785f",
   "metadata": {},
   "source": [
    "- c) Converteix a llista"
   ]
  },
  {
   "cell_type": "markdown",
   "id": "677c0c0d",
   "metadata": {},
   "source": [
    "- d) Manté el format diccionari"
   ]
  },
  {
   "cell_type": "markdown",
   "id": "9df2343a",
   "metadata": {},
   "source": [
    "**Pregunta 2:** Com pots convertir un string JSON a un diccionari?\n",
    "```python\n",
    "import json\n",
    "json_string = '{\"nom\": \"Anna\", \"edat\": 25}'\n",
    "d = json.loads(json_string)\n",
    "print(d)\n",
    "```"
   ]
  },
  {
   "cell_type": "markdown",
   "id": "b543028f",
   "metadata": {},
   "source": [
    "- a) Converteix a diccionari - CORRECTE"
   ]
  },
  {
   "cell_type": "markdown",
   "id": "509b0d8a",
   "metadata": {},
   "source": [
    "- b) Error"
   ]
  },
  {
   "cell_type": "markdown",
   "id": "ebe641a9",
   "metadata": {},
   "source": [
    "- c) Manté el format string"
   ]
  },
  {
   "cell_type": "markdown",
   "id": "f3ed4c13",
   "metadata": {},
   "source": [
    "- d) Converteix a llista"
   ]
  },
  {
   "cell_type": "markdown",
   "id": "ce4735a3",
   "metadata": {},
   "source": [
    "**Pregunta 3:** Com pots escriure un diccionari en un arxiu JSON?\n",
    "```python\n",
    "import json\n",
    "d = {'nom': 'Anna', 'edat': 25}\n",
    "with open('dades.json', 'w') as f:\n",
    "    json.dump(d, f)\n",
    "```"
   ]
  },
  {
   "cell_type": "markdown",
   "id": "a1dbcdd6",
   "metadata": {},
   "source": [
    "- a) Utilitza json.dump() - CORRECTE"
   ]
  },
  {
   "cell_type": "markdown",
   "id": "d21758f1",
   "metadata": {},
   "source": [
    "- b) Utilitza json.dumps()"
   ]
  },
  {
   "cell_type": "markdown",
   "id": "b9586bbb",
   "metadata": {},
   "source": [
    "- c) Utilitza json.load()"
   ]
  },
  {
   "cell_type": "markdown",
   "id": "5cc30851",
   "metadata": {},
   "source": [
    "- d) Utilitza write()"
   ]
  },
  {
   "cell_type": "markdown",
   "id": "4f24096e",
   "metadata": {},
   "source": [
    "**Pregunta 4:** Com pots llegir un arxiu JSON i convertir-lo a diccionari?\n",
    "```python\n",
    "import json\n",
    "with open('dades.json', 'r') as f:\n",
    "    d = json.load(f)\n",
    "print(d)\n",
    "```"
   ]
  },
  {
   "cell_type": "markdown",
   "id": "02380e93",
   "metadata": {},
   "source": [
    "- a) Utilitza json.load()"
   ]
  },
  {
   "cell_type": "markdown",
   "id": "dec1cb78",
   "metadata": {},
   "source": [
    "- b) Utilitza json.loads() - CORRECTE"
   ]
  },
  {
   "cell_type": "markdown",
   "id": "05c41c10",
   "metadata": {},
   "source": [
    "- c) Utilitza json.dump()"
   ]
  },
  {
   "cell_type": "markdown",
   "id": "b35c34cd",
   "metadata": {},
   "source": [
    "- d) Utilitza read()"
   ]
  },
  {
   "cell_type": "markdown",
   "id": "d6de6b51",
   "metadata": {},
   "source": [
    "**Pregunta 5:** Com pots gestionar errors si el format del JSON és incorrecte?\n",
    "```python\n",
    "import json\n",
    "try:\n",
    "    d = json.loads('{\"nom\": Anna}')\n",
    "except json.JSONDecodeError:\n",
    "    print('Error de format')\n",
    "```"
   ]
  },
  {
   "cell_type": "markdown",
   "id": "11a909d1",
   "metadata": {},
   "source": [
    "- a) Captura l'error JSONDecodeError - CORRECTE"
   ]
  },
  {
   "cell_type": "markdown",
   "id": "db0b4507",
   "metadata": {},
   "source": [
    "- b) No es pot capturar l'error"
   ]
  },
  {
   "cell_type": "markdown",
   "id": "e86afd0a",
   "metadata": {},
   "source": [
    "- c) Retorna un diccionari buit"
   ]
  },
  {
   "cell_type": "markdown",
   "id": "b0672c55",
   "metadata": {},
   "source": [
    "- d) Elimina les claus incorrectes"
   ]
  },
  {
   "cell_type": "markdown",
   "id": "8cbb7f40",
   "metadata": {},
   "source": [
    "## Nivell Avançat"
   ]
  },
  {
   "cell_type": "markdown",
   "id": "ee4a7846",
   "metadata": {},
   "source": [
    "**Pregunta 1:** Com pots modificar un objecte JSON carregat a Python?\n",
    "```python\n",
    "import json\n",
    "d = json.loads('{\"nom\": \"Anna\", \"edat\": 25}')\n",
    "d['edat'] = 26\n",
    "json_string = json.dumps(d)\n",
    "print(json_string)\n",
    "```"
   ]
  },
  {
   "cell_type": "markdown",
   "id": "d2e01816",
   "metadata": {},
   "source": [
    "- a) Modifica l'objecte JSON en Python - CORRECTE"
   ]
  },
  {
   "cell_type": "markdown",
   "id": "4300b11e",
   "metadata": {},
   "source": [
    "- b) Error"
   ]
  },
  {
   "cell_type": "markdown",
   "id": "be978939",
   "metadata": {},
   "source": [
    "- c) Manté l'objecte sense canvis"
   ]
  },
  {
   "cell_type": "markdown",
   "id": "7e150db1",
   "metadata": {},
   "source": [
    "- d) Només es pot modificar el JSON original"
   ]
  },
  {
   "cell_type": "markdown",
   "id": "56123711",
   "metadata": {},
   "source": [
    "**Pregunta 2:** Com pots afegir una clau nova en un diccionari JSON?\n",
    "```python\n",
    "import json\n",
    "d = json.loads('{\"nom\": \"Anna\", \"edat\": 25}')\n",
    "d['ciutat'] = \"Barcelona\"\n",
    "json_string = json.dumps(d)\n",
    "print(json_string)\n",
    "```"
   ]
  },
  {
   "cell_type": "markdown",
   "id": "62bed446",
   "metadata": {},
   "source": [
    "- a) Afegeix la clau nova - CORRECTE, modifca l'arxiu"
   ]
  },
  {
   "cell_type": "markdown",
   "id": "f32715e9",
   "metadata": {},
   "source": [
    "- b) Error"
   ]
  },
  {
   "cell_type": "markdown",
   "id": "a6599afa",
   "metadata": {},
   "source": [
    "- c) Només es pot modificar una clau existent"
   ]
  },
  {
   "cell_type": "markdown",
   "id": "48054b3c",
   "metadata": {},
   "source": [
    "- d) Elimina altres claus"
   ]
  },
  {
   "cell_type": "markdown",
   "id": "3b7f95c7",
   "metadata": {},
   "source": [
    "**Pregunta 3:** Com pots verificar si una clau existeix en un diccionari JSON?\n",
    "```python\n",
    "import json\n",
    "d = json.loads('{\"nom\": \"Anna\", \"edat\": 25}')\n",
    "if 'ciutat' not in d:\n",
    "    d['ciutat'] = \"Barcelona\"\n",
    "print(d)\n",
    "```"
   ]
  },
  {
   "cell_type": "markdown",
   "id": "c8040895",
   "metadata": {},
   "source": [
    "- a) Comprova si una clau existeix i afegeix una nova CORRECTE, comprova amb if 'clau' not in 'variable q conté el JSON."
   ]
  },
  {
   "cell_type": "markdown",
   "id": "4d57b178",
   "metadata": {},
   "source": [
    "- b) Error"
   ]
  },
  {
   "cell_type": "markdown",
   "id": "2cfd9b70",
   "metadata": {},
   "source": [
    "- c) Retorna un error"
   ]
  },
  {
   "cell_type": "markdown",
   "id": "cfd96cc9",
   "metadata": {},
   "source": [
    "- d) Només comprova la primera clau"
   ]
  },
  {
   "cell_type": "markdown",
   "id": "a144cdbc",
   "metadata": {},
   "source": [
    "**Pregunta 4:** Com pots escriure objectes Python complexos (com datetime) a un arxiu JSON?\n",
    "```python\n",
    "import json\n",
    "from datetime import datetime\n",
    "d = {'data': datetime.now()}\n",
    "json_string = json.dumps(d, default=str)\n",
    "print(json_string)\n",
    "```"
   ]
  },
  {
   "cell_type": "markdown",
   "id": "a2efe68e",
   "metadata": {},
   "source": [
    "- a) Utilitza el paràmetre default per convertir objectes complexos - CORRECTE"
   ]
  },
  {
   "cell_type": "markdown",
   "id": "54afa084",
   "metadata": {},
   "source": [
    "- b) No es pot convertir"
   ]
  },
  {
   "cell_type": "markdown",
   "id": "ecc93033",
   "metadata": {},
   "source": [
    "- c) Error"
   ]
  },
  {
   "cell_type": "markdown",
   "id": "169b9d2b",
   "metadata": {},
   "source": [
    "- d) Utilitza una funció especial per datetime"
   ]
  },
  {
   "cell_type": "markdown",
   "id": "f32cc8f4",
   "metadata": {},
   "source": [
    "**Pregunta 5:** Com pots llegir un arxiu JSON gran línia per línia?\n",
    "```python\n",
    "import json\n",
    "with open('dades.json', 'r') as f:\n",
    "    for line in f:\n",
    "        d = json.loads(line)\n",
    "        print(d)\n",
    "```"
   ]
  },
  {
   "cell_type": "markdown",
   "id": "719d5843",
   "metadata": {},
   "source": [
    "- a) Llegeix línia per línia un JSON gran - correcte"
   ]
  },
  {
   "cell_type": "markdown",
   "id": "c6a18cbb",
   "metadata": {},
   "source": [
    "- b) No es pot fer"
   ]
  },
  {
   "cell_type": "markdown",
   "id": "fcace875",
   "metadata": {},
   "source": [
    "- c) Llegeix tot el fitxer d'una vegada"
   ]
  },
  {
   "cell_type": "markdown",
   "id": "3c08b933",
   "metadata": {},
   "source": [
    "- d) Utilitza readlines() en lloc de json"
   ]
  }
 ],
 "metadata": {
  "language_info": {
   "name": "python"
  }
 },
 "nbformat": 4,
 "nbformat_minor": 5
}

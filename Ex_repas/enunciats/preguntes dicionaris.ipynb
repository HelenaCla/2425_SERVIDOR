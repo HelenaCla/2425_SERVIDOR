{
 "cells": [
  {
   "cell_type": "markdown",
   "id": "21649bfd",
   "metadata": {},
   "source": [
    "# Preguntes de Manipulació de Diccionaris en Python (Nivell Intermedi i Avançat)"
   ]
  },
  {
   "cell_type": "markdown",
   "id": "168dbca6",
   "metadata": {},
   "source": [
    "## Nivell Intermedi"
   ]
  },
  {
   "cell_type": "markdown",
   "id": "3abe38d6",
   "metadata": {},
   "source": [
    "**Pregunta 1:** Com pots afegir un nou parell clau-valor en un diccionari?\n",
    "```python\n",
    "d = {'a': 1, 'b': 2}\n",
    "d['c'] = 3\n",
    "print(d)\n",
    "```"
   ]
  },
  {
   "cell_type": "markdown",
   "id": "1476fc2d",
   "metadata": {},
   "source": [
    "- a) {'a': 1, 'b': 2, 'c': 3} CORRECTE"
   ]
  },
  {
   "cell_type": "markdown",
   "id": "a1d942a5",
   "metadata": {},
   "source": [
    "- b) {'a': 1, 'b': 2}"
   ]
  },
  {
   "cell_type": "markdown",
   "id": "51aa7a87",
   "metadata": {},
   "source": [
    "- c) Error, no es pot afegir una nova clau"
   ]
  },
  {
   "cell_type": "markdown",
   "id": "6ca674a1",
   "metadata": {},
   "source": [
    "- d) Només imprimeix els valors"
   ]
  },
  {
   "cell_type": "markdown",
   "id": "e1fdb300",
   "metadata": {},
   "source": [
    "**Pregunta 2:** Com pots eliminar una clau d'un diccionari?\n",
    "```python\n",
    "d = {'a': 1, 'b': 2}\n",
    "d.pop('a')\n",
    "print(d)\n",
    "```"
   ]
  },
  {
   "cell_type": "markdown",
   "id": "d099c4d6",
   "metadata": {},
   "source": [
    "- a) {'b': 2} CORRECTE"
   ]
  },
  {
   "cell_type": "markdown",
   "id": "e900e362",
   "metadata": {},
   "source": [
    "- b) {'a': 1, 'b': 2}"
   ]
  },
  {
   "cell_type": "markdown",
   "id": "a090de27",
   "metadata": {},
   "source": [
    "- c) Error"
   ]
  },
  {
   "cell_type": "markdown",
   "id": "1b6325c2",
   "metadata": {},
   "source": [
    "- d) Només elimina el valor"
   ]
  },
  {
   "cell_type": "markdown",
   "id": "0f7a316e",
   "metadata": {},
   "source": [
    "**Pregunta 3:** Què retorna `d.get('z', 'No existeix')` si la clau no hi és?\n",
    "```python\n",
    "d = {'x': 100, 'y': 200}\n",
    "print(d.get('z', 'No existeix'))\n",
    "```"
   ]
  },
  {
   "cell_type": "markdown",
   "id": "15dbd315",
   "metadata": {},
   "source": [
    "- a) 100"
   ]
  },
  {
   "cell_type": "markdown",
   "id": "45825d68",
   "metadata": {},
   "source": [
    "- b) No existeix CORRECTE"
   ]
  },
  {
   "cell_type": "markdown",
   "id": "e3382105",
   "metadata": {},
   "source": [
    "- c) None"
   ]
  },
  {
   "cell_type": "markdown",
   "id": "015fee96",
   "metadata": {},
   "source": [
    "- d) Error"
   ]
  },
  {
   "cell_type": "markdown",
   "id": "937ffefd",
   "metadata": {},
   "source": [
    "**Pregunta 4:** Com pots fusionar dos diccionaris?\n",
    "```python\n",
    "d1 = {'a': 1, 'b': 2}\n",
    "d2 = {'c': 3}\n",
    "d1.update(d2)\n",
    "print(d1)\n",
    "```"
   ]
  },
  {
   "cell_type": "markdown",
   "id": "ef8bb4a7",
   "metadata": {},
   "source": [
    "- a) {'a': 1, 'b': 2, 'c': 3} CORRECTE\n"
   ]
  },
  {
   "cell_type": "markdown",
   "id": "ba5c68da",
   "metadata": {},
   "source": [
    "- b) {'c': 3}"
   ]
  },
  {
   "cell_type": "markdown",
   "id": "574e0e55",
   "metadata": {},
   "source": [
    "- c) Error"
   ]
  },
  {
   "cell_type": "markdown",
   "id": "05404fa3",
   "metadata": {},
   "source": [
    "- d) Només s'actualitzen les claus comunes"
   ]
  },
  {
   "cell_type": "markdown",
   "id": "cea522ad",
   "metadata": {},
   "source": [
    "**Pregunta 5:** Què fa `d.keys()` en un diccionari?\n",
    "```python\n",
    "d = {'a': 1, 'b': 2}\n",
    "claus = d.keys()\n",
    "print(claus)\n",
    "```"
   ]
  },
  {
   "cell_type": "markdown",
   "id": "9b63135c",
   "metadata": {},
   "source": [
    "- a) Retorna una vista de les claus"
   ]
  },
  {
   "cell_type": "markdown",
   "id": "44759b0d",
   "metadata": {},
   "source": [
    "- b) Retorna els valors"
   ]
  },
  {
   "cell_type": "markdown",
   "id": "352b0775",
   "metadata": {},
   "source": [
    "- c) Retorna les claus com a llista CORRECTE"
   ]
  },
  {
   "cell_type": "markdown",
   "id": "d9710dfb",
   "metadata": {},
   "source": [
    "- d) Retorna un error"
   ]
  },
  {
   "cell_type": "markdown",
   "id": "059c7225",
   "metadata": {},
   "source": [
    "## Nivell Avançat"
   ]
  },
  {
   "cell_type": "markdown",
   "id": "732e7e14",
   "metadata": {},
   "source": [
    "**Pregunta 1:** Com pots obtenir tant les claus com els valors d'un diccionari?\n",
    "```python\n",
    "d = {'a': 1, 'b': 2}\n",
    "for clau, valor in d.items():\n",
    "    print(clau, valor)\n",
    "```"
   ]
  },
  {
   "cell_type": "markdown",
   "id": "e7430091",
   "metadata": {},
   "source": [
    "- a) Utilitzant d.items() CORRECTE"
   ]
  },
  {
   "cell_type": "markdown",
   "id": "5f5d65ef",
   "metadata": {},
   "source": [
    "- b) Utilitzant d.keys()"
   ]
  },
  {
   "cell_type": "markdown",
   "id": "8c920afe",
   "metadata": {},
   "source": [
    "- c) Utilitzant d.values()"
   ]
  },
  {
   "cell_type": "markdown",
   "id": "78673fb6",
   "metadata": {},
   "source": [
    "- d) No es pot obtenir"
   ]
  },
  {
   "cell_type": "markdown",
   "id": "7169c1b4",
   "metadata": {},
   "source": [
    "**Pregunta 2:** Com pots establir un valor per defecte per a una clau si aquesta no existeix?\n",
    "```python\n",
    "d = {'a': 1}\n",
    "valor = d.setdefault('b', 2)\n",
    "print(d)\n",
    "```"
   ]
  },
  {
   "cell_type": "markdown",
   "id": "cbc23403",
   "metadata": {},
   "source": [
    "- a) {'a': 1, 'b': 2} - Això es el print que dona el còdi, ara la teva pregunta fa referència com donar un valor per defecte a una clau, que com tu esmentes seria utilitzant .setdefault(). "
   ]
  },
  {
   "cell_type": "markdown",
   "id": "d68f242f",
   "metadata": {},
   "source": [
    "- b) {'a': 1}"
   ]
  },
  {
   "cell_type": "markdown",
   "id": "7ffc7239",
   "metadata": {},
   "source": [
    "- c) Error"
   ]
  },
  {
   "cell_type": "markdown",
   "id": "5c557c5a",
   "metadata": {},
   "source": [
    "- d) Només s'estableixen valors existents"
   ]
  },
  {
   "cell_type": "markdown",
   "id": "d424dd01",
   "metadata": {},
   "source": [
    "**Pregunta 3:** Com pots eliminar i obtenir un element aleatori d'un diccionari?\n",
    "```python\n",
    "d = {'a': 1, 'b': 2, 'c': 3}\n",
    "clau, valor = d.popitem()\n",
    "print(clau, valor)\n",
    "```"
   ]
  },
  {
   "cell_type": "markdown",
   "id": "3b22f051",
   "metadata": {},
   "source": [
    "- a) Elimina i retorna un parell clau-valor - CORRECTE"
   ]
  },
  {
   "cell_type": "markdown",
   "id": "d687d8a9",
   "metadata": {},
   "source": [
    "- b) Només elimina una clau"
   ]
  },
  {
   "cell_type": "markdown",
   "id": "1aa24a2c",
   "metadata": {},
   "source": [
    "- c) Retorna un error"
   ]
  },
  {
   "cell_type": "markdown",
   "id": "d001c19b",
   "metadata": {},
   "source": [
    "- d) Només elimina el valor més alt"
   ]
  },
  {
   "cell_type": "markdown",
   "id": "5fcf3bdc",
   "metadata": {},
   "source": [
    "**Pregunta 4:** Quin és el resultat d'aquest codi?\n",
    "```python\n",
    "d = {'a': 1, 'b': 2}\n",
    "print(list(d.keys()))\n",
    "print(list(d.values()))\n",
    "```"
   ]
  },
  {
   "cell_type": "markdown",
   "id": "b26ac4b8",
   "metadata": {},
   "source": [
    "- a) ['a', 'b'] i [1, 2] - CORRECTE"
   ]
  },
  {
   "cell_type": "markdown",
   "id": "41ee9d7f",
   "metadata": {},
   "source": [
    "- b) ['b', 'a'] i [2, 1]"
   ]
  },
  {
   "cell_type": "markdown",
   "id": "603a0938",
   "metadata": {},
   "source": [
    "- c) ['a'] i [1]"
   ]
  },
  {
   "cell_type": "markdown",
   "id": "7a6142ec",
   "metadata": {},
   "source": [
    "- d) Error perquè no es pot convertir a llista"
   ]
  },
  {
   "cell_type": "markdown",
   "id": "f8f8bb0b",
   "metadata": {},
   "source": [
    "**Pregunta 5:** Com pots comptar les ocurrències de cada element en una llista utilitzant un diccionari?\n",
    "```python\n",
    "llista = ['a', 'b', 'a']\n",
    "contador = {}\n",
    "for element in llista:\n",
    "    contador[element] = contador.get(element, 0) + 1\n",
    "print(contador)\n",
    "```"
   ]
  },
  {
   "cell_type": "markdown",
   "id": "a6d504cd",
   "metadata": {},
   "source": [
    "- a) {'a': 2, 'b': 1}- Aquesta es la solucio que dona el codi. Per poder contar les concurrències creem un bucle for on  amb un contador mirem quantes vegades apareix"
   ]
  },
  {
   "cell_type": "markdown",
   "id": "c2172d1e",
   "metadata": {},
   "source": [
    "- b) {'a': 1, 'b': 2}"
   ]
  },
  {
   "cell_type": "markdown",
   "id": "4fc243e7",
   "metadata": {},
   "source": [
    "- c) {'a': 3, 'b': 1}"
   ]
  },
  {
   "cell_type": "markdown",
   "id": "97d9a7b0",
   "metadata": {},
   "source": [
    "- d) Retorna un error"
   ]
  }
 ],
 "metadata": {
  "language_info": {
   "name": "python"
  }
 },
 "nbformat": 4,
 "nbformat_minor": 5
}

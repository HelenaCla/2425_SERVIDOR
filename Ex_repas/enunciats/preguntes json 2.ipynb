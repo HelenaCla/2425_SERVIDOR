{
 "cells": [
  {
   "cell_type": "markdown",
   "id": "081fca7a",
   "metadata": {},
   "source": [
    "# Preguntes sobre Extracció de Dades d'un JSON i Creació de Llistes en Python (Nivell Intermedi i Avançat)"
   ]
  },
  {
   "cell_type": "markdown",
   "id": "fcebfdae",
   "metadata": {},
   "source": [
    "## Nivell Intermedi"
   ]
  },
  {
   "cell_type": "markdown",
   "id": "fc5d55ba",
   "metadata": {},
   "source": [
    "**Pregunta 1:** Com pots extreure una llista de valors d'una clau en un diccionari JSON?\n",
    "```python\n",
    "import json\n",
    "dades = '{\"persones\": [{\"nom\": \"Anna\"}, {\"nom\": \"Joan\"}]}'\n",
    "d = json.loads(dades)\n",
    "llista_noms = [persona[\"nom\"] for persona in d[\"persones\"]]\n",
    "print(llista_noms)\n",
    "```"
   ]
  },
  {
   "cell_type": "markdown",
   "id": "d6a84d87",
   "metadata": {},
   "source": [
    "- a) ['Anna', 'Joan'] - CORRECTE - UTILITZAM un for"
   ]
  },
  {
   "cell_type": "markdown",
   "id": "7fc3c6c9",
   "metadata": {},
   "source": [
    "- b) ['persones']"
   ]
  },
  {
   "cell_type": "markdown",
   "id": "246aec55",
   "metadata": {},
   "source": [
    "- c) [{'nom': 'Anna'}, {'nom': 'Joan'}]"
   ]
  },
  {
   "cell_type": "markdown",
   "id": "56a9a344",
   "metadata": {},
   "source": [
    "- d) Error"
   ]
  },
  {
   "cell_type": "markdown",
   "id": "4787c1a8",
   "metadata": {},
   "source": [
    "**Pregunta 2:** Com pots crear una llista de llistes a partir d'un JSON?\n",
    "```python\n",
    "import json\n",
    "dades = '{\"resultats\": [[1, 2], [3, 4]]}'\n",
    "d = json.loads(dades)\n",
    "print(d[\"resultats\"])\n",
    "```"
   ]
  },
  {
   "cell_type": "markdown",
   "id": "5f696ab3",
   "metadata": {},
   "source": [
    "- a) [[1, 2], [3, 4]] - CORRECTE"
   ]
  },
  {
   "cell_type": "markdown",
   "id": "49acffc8",
   "metadata": {},
   "source": [
    "- b) [1, 2, 3, 4]"
   ]
  },
  {
   "cell_type": "markdown",
   "id": "16187e61",
   "metadata": {},
   "source": [
    "- c) [['resultats']]"
   ]
  },
  {
   "cell_type": "markdown",
   "id": "515a90fb",
   "metadata": {},
   "source": [
    "- d) Error"
   ]
  },
  {
   "cell_type": "markdown",
   "id": "9d2dbac7",
   "metadata": {},
   "source": [
    "**Pregunta 3:** Com pots transformar un diccionari JSON en una llista de diccionaris?\n",
    "```python\n",
    "import json\n",
    "dades = '{\"persones\": {\"Anna\": 25, \"Joan\": 30}}'\n",
    "d = json.loads(dades)\n",
    "llista_persones = [{\"nom\": nom, \"edat\": edat} for nom, edat in d[\"persones\"].items()]\n",
    "print(llista_persones)\n",
    "```"
   ]
  },
  {
   "cell_type": "markdown",
   "id": "a9df3e6e",
   "metadata": {},
   "source": [
    "- a) [{'nom': 'Anna', 'edat': 25}, {'nom': 'Joan', 'edat': 30}] - CORRECTE. fent un for dins de llista_persones donant totes les variables del json a incloure. "
   ]
  },
  {
   "cell_type": "markdown",
   "id": "18f8cccd",
   "metadata": {},
   "source": [
    "- b) {'Anna': 25, 'Joan': 30}"
   ]
  },
  {
   "cell_type": "markdown",
   "id": "b867bbac",
   "metadata": {},
   "source": [
    "- c) [['Anna', 25], ['Joan', 30]]"
   ]
  },
  {
   "cell_type": "markdown",
   "id": "e30f6fa0",
   "metadata": {},
   "source": [
    "- d) Error"
   ]
  },
  {
   "cell_type": "markdown",
   "id": "66795ca7",
   "metadata": {},
   "source": [
    "**Pregunta 4:** Com pots extreure dades i afegir-les a una llista buida?\n",
    "```python\n",
    "import json\n",
    "dades = '{\"fruites\": [\"poma\", \"pera\", \"plàtan\"]}'\n",
    "d = json.loads(dades)\n",
    "llista = []\n",
    "llista.extend(d[\"fruites\"])\n",
    "print(llista)\n",
    "```"
   ]
  },
  {
   "cell_type": "markdown",
   "id": "c8770234",
   "metadata": {},
   "source": [
    "- a) ['poma', 'pera', 'plàtan'], correcte. Utilitza la funcio .extends()."
   ]
  },
  {
   "cell_type": "markdown",
   "id": "f8d82394",
   "metadata": {},
   "source": [
    "- b) [['poma'], ['pera'], ['plàtan']]"
   ]
  },
  {
   "cell_type": "markdown",
   "id": "f45d7f9a",
   "metadata": {},
   "source": [
    "- c) ['fruites']"
   ]
  },
  {
   "cell_type": "markdown",
   "id": "703a467e",
   "metadata": {},
   "source": [
    "- d) Error"
   ]
  },
  {
   "cell_type": "markdown",
   "id": "0353ca53",
   "metadata": {},
   "source": [
    "**Pregunta 5:** Com pots crear una llista amb els valors d'un diccionari JSON?\n",
    "```python\n",
    "import json\n",
    "dades = '{\"productes\": {\"A\": 10, \"B\": 20, \"C\": 30}}'\n",
    "d = json.loads(dades)\n",
    "llista_valors = list(d[\"productes\"].values())\n",
    "print(llista_valors)\n",
    "```"
   ]
  },
  {
   "cell_type": "markdown",
   "id": "86de3041",
   "metadata": {},
   "source": [
    "- a) [10, 20, 30] - CORRECTE, imprimeix els valors amb el .values"
   ]
  },
  {
   "cell_type": "markdown",
   "id": "5da6f548",
   "metadata": {},
   "source": [
    "- b) ['A', 'B', 'C']"
   ]
  },
  {
   "cell_type": "markdown",
   "id": "fb00ac8c",
   "metadata": {},
   "source": [
    "- c) [{'A': 10, 'B': 20, 'C': 30}]"
   ]
  },
  {
   "cell_type": "markdown",
   "id": "3c597bb6",
   "metadata": {},
   "source": [
    "- d) Error"
   ]
  },
  {
   "cell_type": "markdown",
   "id": "a9f5adfe",
   "metadata": {},
   "source": [
    "## Nivell Avançat"
   ]
  },
  {
   "cell_type": "markdown",
   "id": "7c785ef3",
   "metadata": {},
   "source": [
    "**Pregunta 1:** Com pots transformar un JSON de múltiples diccionaris en una llista de llistes?\n",
    "```python\n",
    "import json\n",
    "dades = '{\"productes\": {\"A\": 10, \"B\": 20, \"C\": 30}}'\n",
    "d = json.loads(dades)\n",
    "llista = [[clau, valor] for clau, valor in d[\"productes\"].items()]\n",
    "print(llista)\n",
    "```"
   ]
  },
  {
   "cell_type": "markdown",
   "id": "eec48be1",
   "metadata": {},
   "source": [
    "- a) [['A', 10], ['B', 20], ['C', 30]] CORRECTE, amb un bucle for. "
   ]
  },
  {
   "cell_type": "markdown",
   "id": "c88900f8",
   "metadata": {},
   "source": [
    "- b) {'A': 10, 'B': 20, 'C': 30}"
   ]
  },
  {
   "cell_type": "markdown",
   "id": "8b13e7dd",
   "metadata": {},
   "source": [
    "- c) [['productes']]"
   ]
  },
  {
   "cell_type": "markdown",
   "id": "f77acd5c",
   "metadata": {},
   "source": [
    "- d) Error"
   ]
  },
  {
   "cell_type": "markdown",
   "id": "0e99c1f9",
   "metadata": {},
   "source": [
    "**Pregunta 2:** Com pots generar una llista de diccionaris a partir de valors extrets d'un JSON?\n",
    "```python\n",
    "import json\n",
    "dades = '{\"persones\": {\"Anna\": 25, \"Joan\": 30}}'\n",
    "d = json.loads(dades)\n",
    "llista_persones = [{\"nom\": clau, \"edat\": valor} for clau, valor in d[\"persones\"].items()]\n",
    "print(llista_persones)\n",
    "```"
   ]
  },
  {
   "cell_type": "markdown",
   "id": "6fa21d09",
   "metadata": {},
   "source": [
    "- a) [{'nom': 'Anna', 'edat': 25}, {'nom': 'Joan', 'edat': 30}] - CORRECTE extreu els valors q necessita de cada item utilitzant el .item()"
   ]
  },
  {
   "cell_type": "markdown",
   "id": "9e4709b7",
   "metadata": {},
   "source": [
    "- b) {'Anna': 25, 'Joan': 30}"
   ]
  },
  {
   "cell_type": "markdown",
   "id": "6ba3dd24",
   "metadata": {},
   "source": [
    "- c) [['Anna', '25'], ['Joan', '30']]"
   ]
  },
  {
   "cell_type": "markdown",
   "id": "68104256",
   "metadata": {},
   "source": [
    "- d) Error"
   ]
  },
  {
   "cell_type": "markdown",
   "id": "5db229c2",
   "metadata": {},
   "source": [
    "**Pregunta 3:** Com pots extreure una llista de claus a partir d'un JSON?\n",
    "```python\n",
    "import json\n",
    "dades = '{\"productes\": {\"A\": 10, \"B\": 20, \"C\": 30}}'\n",
    "d = json.loads(dades)\n",
    "llista_claus = list(d[\"productes\"].keys())\n",
    "print(llista_claus)\n",
    "```"
   ]
  },
  {
   "cell_type": "markdown",
   "id": "72425693",
   "metadata": {},
   "source": [
    "- a) ['A', 'B', 'C'] - CORRECTE - ho extreu amb list(arxiujson[valor].keys())"
   ]
  },
  {
   "cell_type": "markdown",
   "id": "371efb6a",
   "metadata": {},
   "source": [
    "- b) [10, 20, 30]"
   ]
  },
  {
   "cell_type": "markdown",
   "id": "a19f696f",
   "metadata": {},
   "source": [
    "- c) {'A': 10, 'B': 20, 'C': 30}"
   ]
  },
  {
   "cell_type": "markdown",
   "id": "8b90ed32",
   "metadata": {},
   "source": [
    "- d) Error"
   ]
  },
  {
   "cell_type": "markdown",
   "id": "14efe3f3",
   "metadata": {},
   "source": [
    "**Pregunta 4:** Com pots fer una llista de llistes amb els valors d'un JSON?\n",
    "```python\n",
    "import json\n",
    "dades = '{\"fruites\": [\"poma\", \"pera\", \"plàtan\"]}'\n",
    "d = json.loads(dades)\n",
    "llista_fruites = [[fruita] for fruita in d[\"fruites\"]]\n",
    "print(llista_fruites)\n",
    "```"
   ]
  },
  {
   "cell_type": "markdown",
   "id": "e2b7315c",
   "metadata": {},
   "source": [
    "- a) [['poma'], ['pera'], ['plàtan']] - CORRECTE, ha creat una llista de llistes "
   ]
  },
  {
   "cell_type": "markdown",
   "id": "595ce4ba",
   "metadata": {},
   "source": [
    "- b) ['poma', 'pera', 'plàtan']"
   ]
  },
  {
   "cell_type": "markdown",
   "id": "6ae129d8",
   "metadata": {},
   "source": [
    "- c) {'poma', 'pera', 'plàtan'}"
   ]
  },
  {
   "cell_type": "markdown",
   "id": "4776cefb",
   "metadata": {},
   "source": [
    "- d) Error"
   ]
  },
  {
   "cell_type": "markdown",
   "id": "611f04d1",
   "metadata": {},
   "source": [
    "**Pregunta 5:** Com pots modificar valors d'una llista extreta d'un JSON?\n",
    "```python\n",
    "import json\n",
    "dades = '{\"fruites\": [\"poma\", \"pera\", \"plàtan\"]}'\n",
    "d = json.loads(dades)\n",
    "d[\"fruites\"][1] = \"raïm\"\n",
    "print(d[\"fruites\"])\n",
    "```"
   ]
  },
  {
   "cell_type": "markdown",
   "id": "8052bbdc",
   "metadata": {},
   "source": [
    "- a) ['poma', 'raïm', 'plàtan'] - CORRECTE, l'ha modificat utilitzant nomvariable[valor][index] = valor modificat"
   ]
  },
  {
   "cell_type": "markdown",
   "id": "5450b598",
   "metadata": {},
   "source": [
    "- b) ['poma', 'pera', 'plàtan']"
   ]
  },
  {
   "cell_type": "markdown",
   "id": "1488512e",
   "metadata": {},
   "source": [
    "- c) Error"
   ]
  },
  {
   "cell_type": "markdown",
   "id": "be2315eb",
   "metadata": {},
   "source": [
    "- d) No es pot modificar"
   ]
  }
 ],
 "metadata": {
  "language_info": {
   "name": "python"
  }
 },
 "nbformat": 4,
 "nbformat_minor": 5
}

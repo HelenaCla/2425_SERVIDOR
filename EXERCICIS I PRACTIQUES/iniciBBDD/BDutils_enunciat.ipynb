{
 "cells": [
  {
   "cell_type": "code",
   "execution_count": 43,
   "id": "5ba0d8e8-ee24-4f7b-bcdb-0c28f5f97668",
   "metadata": {},
   "outputs": [],
   "source": [
    "import pymysql.cursors\n",
    "import datetime"
   ]
  },
  {
   "cell_type": "code",
   "execution_count": 36,
   "id": "77aefb0d-46e0-4fd1-adea-b27df8f9a787",
   "metadata": {},
   "outputs": [],
   "source": [
    "db = pymysql.connect(host='localhost',\n",
    "                             user='root',\n",
    "                             db='biblioteca',\n",
    "                             charset='utf8mb4',\n",
    "                             autocommit=True,\n",
    "                             cursorclass=pymysql.cursors.DictCursor)\n",
    "cursor=db.cursor()"
   ]
  },
  {
   "cell_type": "code",
   "execution_count": 8,
   "id": "dc04ea4b-2f78-4492-8f59-39b74d2a1358",
   "metadata": {},
   "outputs": [],
   "source": [
    "sql=\"SELECT * from departaments\"\n",
    "cursor.execute(sql)\n",
    "ResQuery=cursor.fetchall()\n",
    "ResQuery"
   ]
  },
  {
   "cell_type": "code",
   "execution_count": 9,
   "id": "df25343e-8181-415b-b202-e9c81a7da034",
   "metadata": {},
   "outputs": [],
   "source": [
    "db.close()"
   ]
  },
  {
   "cell_type": "markdown",
   "id": "7be2a654-85eb-4455-bbf1-bffa5e980cc9",
   "metadata": {},
   "source": [
    "Fer una llista \"llistadep\" amb tots els departaments"
   ]
  },
  {
   "cell_type": "code",
   "execution_count": 14,
   "id": "07fd1ec2-fe16-49bb-9525-c5c226b85122",
   "metadata": {},
   "outputs": [
    {
     "data": {
      "text/plain": [
       "['Administratiu',\n",
       " 'Alemany',\n",
       " 'Angles',\n",
       " 'Automoció',\n",
       " 'Castellà',\n",
       " 'Català',\n",
       " 'Ciencies',\n",
       " 'CIENCIES EXACTES',\n",
       " 'Ciencies_Naturals',\n",
       " 'Ciencies_Socials',\n",
       " 'Economia',\n",
       " 'Educació Infantil',\n",
       " 'Educació_Física',\n",
       " 'Electricitat',\n",
       " 'Electrònica',\n",
       " 'Filosofía',\n",
       " 'Formació i orientació Laboral',\n",
       " 'Informàtica',\n",
       " 'Llengües_Clàssiques',\n",
       " 'Música',\n",
       " 'NAT',\n",
       " 'NOU DEPARTAMENT',\n",
       " 'Obres_Generals',\n",
       " 'Orientació',\n",
       " 'Plàstica',\n",
       " 'Religió',\n",
       " 'Varis']"
      ]
     },
     "execution_count": 14,
     "metadata": {},
     "output_type": "execute_result"
    }
   ],
   "source": [
    "llistadep=[]\n",
    "for a in ResQuery:\n",
    "    llistadep.append(a['DEPARTAMENT'])\n",
    "llistadep"
   ]
  },
  {
   "cell_type": "markdown",
   "id": "d9d8ac7c-0770-4ea8-b7f2-51fc1adb3286",
   "metadata": {},
   "source": [
    "Carrega els 3 primers llibres del departament  \"CIENCIES EXACTES\" que esta definit a la variable departament"
   ]
  },
  {
   "cell_type": "code",
   "execution_count": 18,
   "id": "251e48a0-7ed5-404d-9e1d-a3786c70cb98",
   "metadata": {},
   "outputs": [
    {
     "data": {
      "text/plain": [
       "[{'ID_LLIB': 192,\n",
       "  'TITOL': 'OBRES COMPLETES : IV.',\n",
       "  'NUMEDICIO': '',\n",
       "  'LLOCEDICIO': 'BARCELONA',\n",
       "  'ANYEDICIO': 1989,\n",
       "  'DESCRIP_LLIB': 'V.4 338 P. 18 CM',\n",
       "  'ISBN': '84-297-292',\n",
       "  'DEPLEGAL': '',\n",
       "  'SIGNTOP': 'CAT-PER',\n",
       "  'DATBAIXA_LLIB': None,\n",
       "  'MOTIUBAIXA': '',\n",
       "  'FK_COLLECCIO': None,\n",
       "  'FK_DEPARTAMENT': 'CIENCIES EXACTES',\n",
       "  'FK_IDEDIT': 8,\n",
       "  'FK_LLENGUA': None,\n",
       "  'IMG_LLIB': None},\n",
       " {'ID_LLIB': 370,\n",
       "  'TITOL': \"SI UNA NIT D'HIVERN UN VIATGER.\",\n",
       "  'NUMEDICIO': '',\n",
       "  'LLOCEDICIO': 'BARCELONA',\n",
       "  'ANYEDICIO': 1987,\n",
       "  'DESCRIP_LLIB': '219 P. 20 CM.',\n",
       "  'ISBN': '84-297-256',\n",
       "  'DEPLEGAL': '',\n",
       "  'SIGNTOP': 'CAT-CAL',\n",
       "  'DATBAIXA_LLIB': None,\n",
       "  'MOTIUBAIXA': '',\n",
       "  'FK_COLLECCIO': None,\n",
       "  'FK_DEPARTAMENT': 'CIENCIES EXACTES',\n",
       "  'FK_IDEDIT': 8,\n",
       "  'FK_LLENGUA': None,\n",
       "  'IMG_LLIB': None},\n",
       " {'ID_LLIB': 371,\n",
       "  'TITOL': \"ADA O L'ARDOR.\",\n",
       "  'NUMEDICIO': '',\n",
       "  'LLOCEDICIO': 'BARCELONA',\n",
       "  'ANYEDICIO': 1987,\n",
       "  'DESCRIP_LLIB': '427 P. 20 CM.',\n",
       "  'ISBN': '84-297-259',\n",
       "  'DEPLEGAL': '',\n",
       "  'SIGNTOP': 'CAT-NAB',\n",
       "  'DATBAIXA_LLIB': None,\n",
       "  'MOTIUBAIXA': '',\n",
       "  'FK_COLLECCIO': None,\n",
       "  'FK_DEPARTAMENT': 'CIENCIES EXACTES',\n",
       "  'FK_IDEDIT': 8,\n",
       "  'FK_LLENGUA': None,\n",
       "  'IMG_LLIB': None}]"
      ]
     },
     "execution_count": 18,
     "metadata": {},
     "output_type": "execute_result"
    }
   ],
   "source": [
    "departament='CIENCIES EXACTES'\n",
    "sql=\"SELECT * from llibres WHERE FK_DEPARTAMENT='\"+departament+\"' LIMIT 3;\"\n",
    "cursor.execute(sql)\n",
    "ResQuery=cursor.fetchall()\n",
    "ResQuery"
   ]
  },
  {
   "cell_type": "markdown",
   "id": "3561b094-c910-4f7c-bf64-0250ffca24fd",
   "metadata": {},
   "source": [
    "# Tasques a realitzar"
   ]
  },
  {
   "cell_type": "markdown",
   "id": "975de127-226e-44b6-b5b6-8cfa94c0b0eb",
   "metadata": {},
   "source": [
    "1- Retornar un diccionar a partir d'un \"ID_LLIB\" de la taula \"llibres\" que contengui:\n",
    "{\"titol\":\"TITOL\",\"nom_autor\":[noms dels autors (pot haver més d'un)]}"
   ]
  },
  {
   "cell_type": "code",
   "execution_count": 29,
   "id": "f16cd470-6bd1-4ab2-8703-be5b30daca0a",
   "metadata": {},
   "outputs": [
    {
     "data": {
      "text/plain": [
       "{'titol': 'Problemas Resueltos de Tecnologia Eléctrica',\n",
       " 'nom_autor': ['Moreno, Narciso', 'Bachiller, Alfonso', 'Bravo, Juan Carlos']}"
      ]
     },
     "execution_count": 29,
     "metadata": {},
     "output_type": "execute_result"
    }
   ],
   "source": [
    "ID_LLIB=6427 #aquest llibre te 3 autors\n",
    "\n",
    "\n",
    "Llibre"
   ]
  },
  {
   "cell_type": "markdown",
   "id": "8fc4e00c-4568-463d-a796-17de54129751",
   "metadata": {},
   "source": [
    "2-Modificar un editor de la taula editors a partir d'un diccionari que conté el id_edit i altres camps. El codi ha de funcionar pels dos exemples."
   ]
  },
  {
   "cell_type": "code",
   "execution_count": 40,
   "id": "811eac13-36d1-487f-bab4-be2e93e394ee",
   "metadata": {},
   "outputs": [
    {
     "name": "stdout",
     "output_type": "stream",
     "text": [
      "update editors SET NOM_EDIT='LA NOVA BUSCA', CP_EDIT='07300' WHERE ID_EDIT=1\n"
     ]
    },
    {
     "data": {
      "text/plain": [
       "1"
      ]
     },
     "execution_count": 40,
     "metadata": {},
     "output_type": "execute_result"
    }
   ],
   "source": [
    "exemple1={\"id_edit\":1,\"NOM_EDIT\":\"LA NOVA BUSCA\",\"CP_EDIT\":\"07300\"}\n",
    "exemple2={\"id_edit\":3,\"ADR_EDIT\":\"Carrer Fondo, 4\"}\n",
    "\n",
    "\n",
    "\n",
    "print(sql)"
   ]
  },
  {
   "cell_type": "markdown",
   "id": "6d11a618-bd1d-4a0c-bcce-56969137587e",
   "metadata": {},
   "source": [
    "3-Insertar un nou prestec a partir d'un diccionari amb les dades FK_IDLLIB, FK_NUMEXM, FK_IDUSR\n",
    "DAT_PRESTAT seràn el moment actual, els altres camps, NULL"
   ]
  },
  {
   "cell_type": "code",
   "execution_count": 48,
   "id": "648ab520-a8db-42b5-a179-7ab93dc8effb",
   "metadata": {},
   "outputs": [
    {
     "name": "stdout",
     "output_type": "stream",
     "text": [
      "INSERT INTO prestecs(FK_IDLLIB,FK_NUMEXM,FK_IDUSR,DAT_PRESTAT) VALUES ('1','1','1','2024-10-23 16:00:28');\n"
     ]
    },
    {
     "data": {
      "text/plain": [
       "1"
      ]
     },
     "execution_count": 48,
     "metadata": {},
     "output_type": "execute_result"
    }
   ],
   "source": [
    "dades={'FK_IDLLIB':1, 'FK_NUMEXM':1, 'FK_IDUSR':1}\n",
    "\n",
    "print(sql)"
   ]
  }
 ],
 "metadata": {
  "kernelspec": {
   "display_name": "Python 3 (ipykernel)",
   "language": "python",
   "name": "python3"
  },
  "language_info": {
   "codemirror_mode": {
    "name": "ipython",
    "version": 3
   },
   "file_extension": ".py",
   "mimetype": "text/x-python",
   "name": "python",
   "nbconvert_exporter": "python",
   "pygments_lexer": "ipython3",
   "version": "3.10.4"
  }
 },
 "nbformat": 4,
 "nbformat_minor": 5
}

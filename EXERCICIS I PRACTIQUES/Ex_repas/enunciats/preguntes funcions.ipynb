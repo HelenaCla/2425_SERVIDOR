{
 "cells": [
  {
   "cell_type": "markdown",
   "id": "2e883951",
   "metadata": {},
   "source": [
    "# Preguntes sobre Funcions en Python amb Exemples Complexos (Nivell Intermedi i Avançat)"
   ]
  },
  {
   "cell_type": "markdown",
   "id": "c7d702f1",
   "metadata": {},
   "source": [
    "## Nivell Intermedi"
   ]
  },
  {
   "cell_type": "markdown",
   "id": "8643f471",
   "metadata": {},
   "source": [
    "**Pregunta 1:** Com pots definir una funció que retorni un diccionari amb llistes com a valors?\n",
    "```python\n",
    "def categoritzar_numeros(nums):\n",
    "    resultat = {\"parells\": [], \"senars\": []}\n",
    "    for num in nums:\n",
    "        if num % 2 == 0:\n",
    "            resultat[\"parells\"].append(num)\n",
    "        else:\n",
    "            resultat[\"senars\"].append(num)\n",
    "    return resultat\n",
    "print(categoritzar_numeros([1, 2, 3, 4, 5]))\n",
    "```"
   ]
  },
  {
   "cell_type": "markdown",
   "id": "5168848c",
   "metadata": {},
   "source": [
    "- a) {'parells': [2, 4], 'senars': [1, 3, 5]} CODI CORRECTE - Per crear la funcio declarem amb def nomfuncio(parametres) i dins d'aquestes definim una variable resultat i creem la lògica que farà que cada valor es guardi a una de les dues llistes depenent de les seves carecterístiques. "
   ]
  },
  {
   "cell_type": "markdown",
   "id": "394fec9b",
   "metadata": {},
   "source": [
    "- b) [2, 4]"
   ]
  },
  {
   "cell_type": "markdown",
   "id": "cdc2b37c",
   "metadata": {},
   "source": [
    "- c) {'parells': [], 'senars': []}"
   ]
  },
  {
   "cell_type": "markdown",
   "id": "0f17e611",
   "metadata": {},
   "source": [
    "- d) Error"
   ]
  },
  {
   "cell_type": "markdown",
   "id": "88b8c28a",
   "metadata": {},
   "source": [
    "**Pregunta 2:** Com pots definir una funció que retorni una llista de llistes amb resultats de càlculs?\n",
    "```python\n",
    "def quadrats_cubics(nums):\n",
    "    return [[num**2, num**3] per num in nums]\n",
    "print(quadrats_cubics([2, 3, 4]))\n",
    "```"
   ]
  },
  {
   "cell_type": "markdown",
   "id": "ca5c3f84",
   "metadata": {},
   "source": [
    "- a) [[4, 8], [9, 27], [16, 64]] - Aquest es el codi que imprimiria la funció anterior, tot i que hi ha un error al codi, ja que posa PER en lloc de FOR. Definim com sera la llista de llistes al return. "
   ]
  },
  {
   "cell_type": "markdown",
   "id": "c056367c",
   "metadata": {},
   "source": [
    "- b) [4, 9, 16]"
   ]
  },
  {
   "cell_type": "markdown",
   "id": "aba74bea",
   "metadata": {},
   "source": [
    "- c) [[4, 8, 16], [9, 27, 64]]"
   ]
  },
  {
   "cell_type": "markdown",
   "id": "6785c27f",
   "metadata": {},
   "source": [
    "- d) Error"
   ]
  },
  {
   "cell_type": "markdown",
   "id": "9a52abbf",
   "metadata": {},
   "source": [
    "**Pregunta 3:** Com pots definir una funció que retorni un diccionari amb claus generades a partir d'una llista?\n",
    "```python\n",
    "def generar_diccionari(claus, valor):\n",
    "    return {clau: valor for clau in claus}\n",
    "print(generar_diccionari(['a', 'b', 'c'], 0))\n",
    "```"
   ]
  },
  {
   "cell_type": "markdown",
   "id": "452de79e",
   "metadata": {},
   "source": [
    "- a) {'a': 0, 'b': 0, 'c': 0} - CORRECTE "
   ]
  },
  {
   "cell_type": "markdown",
   "id": "e88f858d",
   "metadata": {},
   "source": [
    "- b) [0, 0, 0]"
   ]
  },
  {
   "cell_type": "markdown",
   "id": "11ccea2e",
   "metadata": {},
   "source": [
    "- c) Error perquè falta una clau"
   ]
  },
  {
   "cell_type": "markdown",
   "id": "ffffd5ae",
   "metadata": {},
   "source": [
    "- d) None"
   ]
  },
  {
   "cell_type": "markdown",
   "id": "b8cfd51b",
   "metadata": {},
   "source": [
    "**Pregunta 4:** Com pots definir una funció que retorni un booleà segons la condició que tots els elements d'una llista siguin parells?\n",
    "```python\n",
    "def tots_parells(nums):\n",
    "    return all(num % 2 == 0 per num in nums)\n",
    "print(tots_parells([2, 4, 6]))\n",
    "```"
   ]
  },
  {
   "cell_type": "markdown",
   "id": "4f07e15d",
   "metadata": {},
   "source": [
    "- a) True - EL CODI CORRECTE DONA AIXO. "
   ]
  },
  {
   "cell_type": "markdown",
   "id": "d1329b3d",
   "metadata": {},
   "source": [
    "- b) False"
   ]
  },
  {
   "cell_type": "markdown",
   "id": "b0bae42a",
   "metadata": {},
   "source": [
    "- c) Error perquè falta una condició"
   ]
  },
  {
   "cell_type": "markdown",
   "id": "09cd710d",
   "metadata": {},
   "source": [
    "- d) None"
   ]
  },
  {
   "cell_type": "markdown",
   "id": "5682f986",
   "metadata": {},
   "source": [
    "**Pregunta 5:** Com pots definir una funció que retorni una tupla de llistes, una amb valors parells i una altra amb valors senars?\n",
    "```python\n",
    "def separar_parells_senars(nums):\n",
    "    parells = [num per num in nums si num % 2 == 0]\n",
    "    senars = [num per num in nums si num % 2 != 0]\n",
    "    return parells, senars\n",
    "print(separar_parells_senars([1, 2, 3, 4, 5]))\n",
    "```"
   ]
  },
  {
   "cell_type": "markdown",
   "id": "ccac124f",
   "metadata": {},
   "source": [
    "- a) ([2, 4], [1, 3, 5]) - CORRECTE"
   ]
  },
  {
   "cell_type": "markdown",
   "id": "154dfedd",
   "metadata": {
    "vscode": {
     "languageId": "plaintext"
    }
   },
   "source": [
    "El codi coorregit:\n",
    "\n",
    "```python\n",
    "\n",
    "def separar_parells_senars(nums):\n",
    "    parells = [num for num in nums if num % 2 == 0]\n",
    "    senars = [num for num in nums if num % 2 != 0]\n",
    "    return parells, senars\n",
    "print(separar_parells_senars([1, 2, 3, 4, 5]))\n",
    "````"
   ]
  },
  {
   "cell_type": "markdown",
   "id": "1a322633",
   "metadata": {},
   "source": [
    "- b) [2, 4, 1, 3, 5]"
   ]
  },
  {
   "cell_type": "markdown",
   "id": "7806bfab",
   "metadata": {},
   "source": [
    "- c) Error perquè no es poden retornar dues llistes"
   ]
  },
  {
   "cell_type": "markdown",
   "id": "c8f9213d",
   "metadata": {},
   "source": [
    "- d) None"
   ]
  },
  {
   "cell_type": "markdown",
   "id": "86350e1a",
   "metadata": {},
   "source": [
    "## Nivell Avançat"
   ]
  },
  {
   "cell_type": "markdown",
   "id": "3d897348",
   "metadata": {},
   "source": [
    "**Pregunta 1:** Com pots definir una funció que retorni un diccionari amb claus generades dinàmicament segons el contingut d'una llista?\n",
    "```python\n",
    "def generar_claus_valors(nums):\n",
    "    return {f'clau_{num}': num**2 per num in nums}\n",
    "print(generar_claus_valors([1, 2, 3]))\n",
    "```"
   ]
  },
  {
   "cell_type": "markdown",
   "id": "b8587d2a",
   "metadata": {},
   "source": [
    "- a) {'clau_1': 1, 'clau_2': 4, 'clau_3': 9} CORRECTE. Utilitzant variables per definir. "
   ]
  },
  {
   "cell_type": "markdown",
   "id": "5cdc31eb",
   "metadata": {},
   "source": [
    "- b) [1, 4, 9]"
   ]
  },
  {
   "cell_type": "markdown",
   "id": "1cd2e459",
   "metadata": {},
   "source": [
    "- c) Error"
   ]
  },
  {
   "cell_type": "markdown",
   "id": "444c42ef",
   "metadata": {},
   "source": [
    "- d) None"
   ]
  },
  {
   "cell_type": "markdown",
   "id": "e2e81f08",
   "metadata": {},
   "source": [
    "**Pregunta 2:** Com pots definir una funció que retorni un diccionari que categoritzi números segons si són múltiples de 3 o no?\n",
    "```python\n",
    "def categoritzar_per_multiples(nums):\n",
    "    return {\"multiples_de_3\": [num for num in nums si num % 3 == 0], \"no_multiples\": [num for num in nums si num % 3 != 0]}\n",
    "print(categoritzar_per_multiples([1, 2, 3, 4, 5, 6]))\n",
    "```"
   ]
  },
  {
   "cell_type": "markdown",
   "id": "ac8b86e7",
   "metadata": {},
   "source": [
    "- a) {'multiples_de_3': [3, 6], 'no_multiples': [1, 2, 4, 5]} - CORRECTE"
   ]
  },
  {
   "cell_type": "markdown",
   "id": "3a5df0b7",
   "metadata": {},
   "source": [
    "Ficant al return un condicional que ens ordeni els numeros. "
   ]
  },
  {
   "cell_type": "markdown",
   "id": "cf232277",
   "metadata": {},
   "source": [
    "- b) [3, 6]"
   ]
  },
  {
   "cell_type": "markdown",
   "id": "6d4a2d3d",
   "metadata": {},
   "source": [
    "- c) Error"
   ]
  },
  {
   "cell_type": "markdown",
   "id": "dcfd1ad9",
   "metadata": {},
   "source": [
    "- d) None"
   ]
  },
  {
   "cell_type": "markdown",
   "id": "927eacf4",
   "metadata": {},
   "source": [
    "**Pregunta 3:** Com pots definir una funció que utilitzi un decorador per afegir comportament a una funció existent?\n",
    "```python\n",
    "def decorador(func):\n",
    "    def func_modificada(*args, **kwargs):\n",
    "        print(\"Aquesta és la funció decorada\")\n",
    "        return func(*args, **kwargs)\n",
    "    return func_modificada\n",
    "\n",
    "@decorador\n",
    "def sumar(a, b):\n",
    "    return a + b\n",
    "print(sumar(3, 4))\n",
    "```"
   ]
  },
  {
   "cell_type": "markdown",
   "id": "c43f195a",
   "metadata": {},
   "source": [
    "- a) 'Aquesta és la funció decorada' i 7 AQUESTA ES LA CORRECTA"
   ]
  },
  {
   "cell_type": "markdown",
   "id": "765f25f4",
   "metadata": {},
   "source": [
    "- b) 7"
   ]
  },
  {
   "cell_type": "markdown",
   "id": "5c67158e",
   "metadata": {},
   "source": [
    "- c) Error perquè decorador no modifica funcions"
   ]
  },
  {
   "cell_type": "markdown",
   "id": "288fe520",
   "metadata": {},
   "source": [
    "- d) None"
   ]
  },
  {
   "cell_type": "markdown",
   "id": "3d589767",
   "metadata": {},
   "source": [
    "**Pregunta 4:** Com pots definir una funció que retorni una llista de tuplas amb l'índex i el valor d'una llista donada?\n",
    "```python\n",
    "def llista_tuples(nums):\n",
    "    return [(i, num) per i, num in enumerate(nums)]\n",
    "print(llista_tuples([10, 20, 30]))\n",
    "```"
   ]
  },
  {
   "cell_type": "markdown",
   "id": "243bd393",
   "metadata": {},
   "source": [
    "- a) [(0, 10), (1, 20), (2, 30)] - CORRECTES"
   ]
  },
  {
   "cell_type": "markdown",
   "id": "0481257e",
   "metadata": {},
   "source": [
    "- b) [10, 20, 30]"
   ]
  },
  {
   "cell_type": "markdown",
   "id": "c8a1615b",
   "metadata": {},
   "source": [
    "- c) Error"
   ]
  },
  {
   "cell_type": "markdown",
   "id": "80fde88a",
   "metadata": {},
   "source": [
    "- d) None"
   ]
  },
  {
   "cell_type": "markdown",
   "id": "2ba8b90d",
   "metadata": {},
   "source": [
    "**Pregunta 5:** Com pots definir una funció que retorni una tupla amb múltiples resultats de càlcul (suma, producte, mitjana)?\n",
    "```python\n",
    "def calculs_complets(a, b):\n",
    "    suma = a + b\n",
    "    producte = a * b\n",
    "    mitjana = (a + b) / 2\n",
    "    return suma, producte, mitjana\n",
    "print(calculs_complets(4, 6))\n",
    "```"
   ]
  },
  {
   "cell_type": "markdown",
   "id": "d40c9d0b",
   "metadata": {},
   "source": [
    "- a) (10, 24, 5.0) - aquest es el correcte. Al fer el return de 3 variables, crees una llista amb els tres valors. "
   ]
  },
  {
   "cell_type": "markdown",
   "id": "4eac5cb3",
   "metadata": {},
   "source": [
    "- b) (10, 24)"
   ]
  },
  {
   "cell_type": "markdown",
   "id": "ec7cc148",
   "metadata": {},
   "source": [
    "- c) Error"
   ]
  },
  {
   "cell_type": "markdown",
   "id": "ef145a25",
   "metadata": {},
   "source": [
    "- d) None"
   ]
  }
 ],
 "metadata": {
  "language_info": {
   "name": "python"
  }
 },
 "nbformat": 4,
 "nbformat_minor": 5
}

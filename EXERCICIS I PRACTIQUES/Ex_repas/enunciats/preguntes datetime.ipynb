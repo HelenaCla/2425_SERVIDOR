{
 "cells": [
  {
   "cell_type": "markdown",
   "id": "c992338f",
   "metadata": {},
   "source": [
    "# Prova tipus test de Python (Nivell Intermedi)"
   ]
  },
  {
   "cell_type": "markdown",
   "id": "7e6dcbaf",
   "metadata": {},
   "source": [
    "**Pregunta 1:** Quin és el resultat d'executar aquest codi?\n",
    "```python\n",
    "import datetime\n",
    "ara = datetime.datetime.now()\n",
    "print(ara.date())\n",
    "```"
   ]
  },
  {
   "cell_type": "markdown",
   "id": "b04f317e",
   "metadata": {},
   "source": [
    "- a) Imprimeix la data i l'hora actuals"
   ]
  },
  {
   "cell_type": "markdown",
   "id": "7d86a82d",
   "metadata": {},
   "source": [
    "- b) Imprimeix només la data actual - CORRECTA"
   ]
  },
  {
   "cell_type": "markdown",
   "id": "f914f92f",
   "metadata": {},
   "source": [
    "- c) Imprimeix la data en format de string"
   ]
  },
  {
   "cell_type": "markdown",
   "id": "1b6e6cfa",
   "metadata": {},
   "source": [
    "- d) Error perquè date() no està definit"
   ]
  },
  {
   "cell_type": "markdown",
   "id": "c370c7ab",
   "metadata": {},
   "source": [
    "**Pregunta 2:** Quin és el resultat d'aquest codi?\n",
    "```python\n",
    "import datetime\n",
    "data_str = '2024-01-01'\n",
    "data_obj = datetime.datetime.strptime(data_str, '%Y-%m-%d')\n",
    "print(data_obj)\n",
    "```"
   ]
  },
  {
   "cell_type": "markdown",
   "id": "ca6d5a59",
   "metadata": {},
   "source": [
    "- a) 2024-01-01 00:00:00 CORRECTA"
   ]
  },
  {
   "cell_type": "markdown",
   "id": "3f5a6513",
   "metadata": {},
   "source": [
    "- b) 2024-01-01"
   ]
  },
  {
   "cell_type": "markdown",
   "id": "65db43a1",
   "metadata": {},
   "source": [
    "- c) Error, format de string incorrecte"
   ]
  },
  {
   "cell_type": "markdown",
   "id": "a03eaebd",
   "metadata": {},
   "source": [
    "- d) 01/01/2024"
   ]
  },
  {
   "cell_type": "markdown",
   "id": "54eed49c",
   "metadata": {},
   "source": [
    "**Pregunta 3:** Com pots sumar 5 dies a la data actual?\n",
    "```python\n",
    "import datetime\n",
    "ara = datetime.datetime.now()\n",
    "nova_data = ara + _______\n",
    "```"
   ]
  },
  {
   "cell_type": "markdown",
   "id": "2a438076",
   "metadata": {},
   "source": [
    "- a) 5"
   ]
  },
  {
   "cell_type": "markdown",
   "id": "087ac6f8",
   "metadata": {},
   "source": [
    "- b) datetime.timedelta(days=5) CORRECTA"
   ]
  },
  {
   "cell_type": "markdown",
   "id": "03b47f18",
   "metadata": {},
   "source": [
    "- c) datetime.days(5)"
   ]
  },
  {
   "cell_type": "markdown",
   "id": "7c2021f4",
   "metadata": {},
   "source": [
    "- d) timedelta(datetime=5)"
   ]
  },
  {
   "cell_type": "markdown",
   "id": "19f71019",
   "metadata": {},
   "source": [
    "**Pregunta 4:** Com pots obtenir la diferència de dies entre dues dates?\n",
    "```python\n",
    "import datetime\n",
    "data1 = datetime.date(2024, 1, 1)\n",
    "data2 = datetime.date(2023, 1, 1)\n",
    "diferència = data1 - data2\n",
    "print(diferència._______)\n",
    "```"
   ]
  },
  {
   "cell_type": "markdown",
   "id": "c8978428",
   "metadata": {},
   "source": [
    "- a) total_seconds"
   ]
  },
  {
   "cell_type": "markdown",
   "id": "e72efa50",
   "metadata": {},
   "source": [
    "- b) days CORRECTA"
   ]
  },
  {
   "cell_type": "markdown",
   "id": "03ff53eb",
   "metadata": {},
   "source": [
    "- c) time"
   ]
  },
  {
   "cell_type": "markdown",
   "id": "e91e1de8",
   "metadata": {},
   "source": [
    "- d) hours"
   ]
  },
  {
   "cell_type": "markdown",
   "id": "dd558775",
   "metadata": {},
   "source": [
    "**Pregunta 5:** Quin és el resultat d'aquest codi?\n",
    "```python\n",
    "import datetime\n",
    "print(datetime.date.today())\n",
    "```"
   ]
  },
  {
   "cell_type": "markdown",
   "id": "c78cb33f",
   "metadata": {},
   "source": [
    "- a) Mostra la data d'avui CORRECTE"
   ]
  },
  {
   "cell_type": "markdown",
   "id": "6df3f4a3",
   "metadata": {},
   "source": [
    "- b) Mostra la data actual i l'hora"
   ]
  },
  {
   "cell_type": "markdown",
   "id": "c7c1d645",
   "metadata": {},
   "source": [
    "- c) Error perquè no es pot utilitzar today()"
   ]
  },
  {
   "cell_type": "markdown",
   "id": "060d0035",
   "metadata": {},
   "source": [
    "- d) Mostra només l'any actual"
   ]
  },
  {
   "cell_type": "markdown",
   "id": "ada47c01",
   "metadata": {},
   "source": [
    "-- COMENTARI ALUMNE -- A PARTIR D'AQUI LES PREGUNTES ESTAN REPETIDES"
   ]
  },
  {
   "cell_type": "markdown",
   "id": "ad9fe42d",
   "metadata": {},
   "source": [
    "**Pregunta 1:** Quin és el resultat d'executar aquest codi?\n",
    "```python\n",
    "import datetime\n",
    "ara = datetime.datetime.now()\n",
    "print(ara.date())\n",
    "```"
   ]
  },
  {
   "cell_type": "markdown",
   "id": "4eae006a",
   "metadata": {},
   "source": [
    "- a) Imprimeix la data i l'hora actuals"
   ]
  },
  {
   "cell_type": "markdown",
   "id": "60a7bae2",
   "metadata": {},
   "source": [
    "- b) Imprimeix només la data actual CORRECTE"
   ]
  },
  {
   "cell_type": "markdown",
   "id": "b3f12ca5",
   "metadata": {},
   "source": [
    "- c) Imprimeix la data en format de string"
   ]
  },
  {
   "cell_type": "markdown",
   "id": "871e90df",
   "metadata": {},
   "source": [
    "- d) Error perquè date() no està definit"
   ]
  },
  {
   "cell_type": "markdown",
   "id": "750ba293",
   "metadata": {},
   "source": [
    "**Pregunta 2:** Quin és el resultat d'aquest codi?\n",
    "```python\n",
    "import datetime\n",
    "data_str = '2024-01-01'\n",
    "data_obj = datetime.datetime.strptime(data_str, '%Y-%m-%d')\n",
    "print(data_obj)\n",
    "```"
   ]
  },
  {
   "cell_type": "markdown",
   "id": "74c46445",
   "metadata": {},
   "source": [
    "- a) 2024-01-01 00:00:00 CORRECTE"
   ]
  },
  {
   "cell_type": "markdown",
   "id": "d210e719",
   "metadata": {},
   "source": [
    "- b) 2024-01-01"
   ]
  },
  {
   "cell_type": "markdown",
   "id": "b300d5a8",
   "metadata": {},
   "source": [
    "- c) Error, format de string incorrecte"
   ]
  },
  {
   "cell_type": "markdown",
   "id": "ff42a4a9",
   "metadata": {},
   "source": [
    "- d) 01/01/2024"
   ]
  },
  {
   "cell_type": "markdown",
   "id": "67aae98f",
   "metadata": {},
   "source": [
    "**Pregunta 3:** Com pots sumar 5 dies a la data actual?\n",
    "```python\n",
    "import datetime\n",
    "ara = datetime.datetime.now()\n",
    "nova_data = ara + _______\n",
    "```"
   ]
  },
  {
   "cell_type": "markdown",
   "id": "39d308de",
   "metadata": {},
   "source": [
    "- a) 5"
   ]
  },
  {
   "cell_type": "markdown",
   "id": "db20207d",
   "metadata": {},
   "source": [
    "- b) datetime.timedelta(days=5) CORRECTE"
   ]
  },
  {
   "cell_type": "markdown",
   "id": "94d2f969",
   "metadata": {},
   "source": [
    "- c) datetime.days(5)"
   ]
  },
  {
   "cell_type": "markdown",
   "id": "511c1797",
   "metadata": {},
   "source": [
    "- d) timedelta(datetime=5)"
   ]
  },
  {
   "cell_type": "markdown",
   "id": "8ad5d776",
   "metadata": {},
   "source": [
    "**Pregunta 4:** Com pots obtenir la diferència de dies entre dues dates?\n",
    "```python\n",
    "import datetime\n",
    "data1 = datetime.date(2024, 1, 1)\n",
    "data2 = datetime.date(2023, 1, 1)\n",
    "diferència = data1 - data2\n",
    "print(diferència._______)\n",
    "```"
   ]
  },
  {
   "cell_type": "markdown",
   "id": "60724c1b",
   "metadata": {},
   "source": [
    "- a) total_seconds"
   ]
  },
  {
   "cell_type": "markdown",
   "id": "abcec72f",
   "metadata": {},
   "source": [
    "- b) days CORRECTE"
   ]
  },
  {
   "cell_type": "markdown",
   "id": "cc414247",
   "metadata": {},
   "source": [
    "- c) time"
   ]
  },
  {
   "cell_type": "markdown",
   "id": "e9210e44",
   "metadata": {},
   "source": [
    "- d) hours"
   ]
  },
  {
   "cell_type": "markdown",
   "id": "ebcf9b5b",
   "metadata": {},
   "source": [
    "**Pregunta 5:** Quin és el resultat d'aquest codi?\n",
    "```python\n",
    "import datetime\n",
    "print(datetime.date.today())\n",
    "```"
   ]
  },
  {
   "cell_type": "markdown",
   "id": "56f59d83",
   "metadata": {},
   "source": [
    "- a) Mostra la data d'avui CORRECTE "
   ]
  },
  {
   "cell_type": "markdown",
   "id": "2b0d32c4",
   "metadata": {},
   "source": [
    "- b) Mostra la data actual i l'hora"
   ]
  },
  {
   "cell_type": "markdown",
   "id": "ad36372d",
   "metadata": {},
   "source": [
    "- c) Error perquè no es pot utilitzar today()"
   ]
  },
  {
   "cell_type": "markdown",
   "id": "b5536405",
   "metadata": {},
   "source": [
    "- d) Mostra només l'any actual"
   ]
  }
 ],
 "metadata": {
  "language_info": {
   "name": "python"
  }
 },
 "nbformat": 4,
 "nbformat_minor": 5
}

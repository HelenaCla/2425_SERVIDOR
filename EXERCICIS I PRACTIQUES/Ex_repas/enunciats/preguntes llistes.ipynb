{
 "cells": [
  {
   "cell_type": "markdown",
   "id": "dadccfaf",
   "metadata": {},
   "source": [
    "# Preguntes de Manipulació de Llistes en Python (Nivell Intermedi i Avançat)"
   ]
  },
  {
   "cell_type": "markdown",
   "id": "bfca4b55",
   "metadata": {},
   "source": [
    "## Nivell Intermedi"
   ]
  },
  {
   "cell_type": "markdown",
   "id": "4822f623",
   "metadata": {},
   "source": [
    "**Pregunta 1:** Com pots afegir un nou element a una llista?\n",
    "```python\n",
    "llista = [1, 2, 3]\n",
    "llista.append(4)\n",
    "print(llista)\n",
    "```"
   ]
  },
  {
   "cell_type": "markdown",
   "id": "7dee1ca4",
   "metadata": {},
   "source": [
    "- a) [1, 2, 3, 4] - AMB APPEND"
   ]
  },
  {
   "cell_type": "markdown",
   "id": "a2354be7",
   "metadata": {},
   "source": [
    "- b) [1, 2, 3]"
   ]
  },
  {
   "cell_type": "markdown",
   "id": "ad850162",
   "metadata": {},
   "source": [
    "- c) Error, no es pot afegir un element nou"
   ]
  },
  {
   "cell_type": "markdown",
   "id": "e8ed31ef",
   "metadata": {},
   "source": [
    "- d) Només afegeix a l'inici"
   ]
  },
  {
   "cell_type": "markdown",
   "id": "a1456920",
   "metadata": {},
   "source": [
    "**Pregunta 2:** Com pots eliminar un element d'una llista per valor?\n",
    "```python\n",
    "llista = [1, 2, 3]\n",
    "llista.remove(2)\n",
    "print(llista)\n",
    "```"
   ]
  },
  {
   "cell_type": "markdown",
   "id": "d04b148d",
   "metadata": {},
   "source": [
    "- a) Elimina l'element amb valor 2"
   ]
  },
  {
   "cell_type": "markdown",
   "id": "d0383fc8",
   "metadata": {},
   "source": [
    "- b) Elimina l'element de l'índex 2 - CORRECTE"
   ]
  },
  {
   "cell_type": "markdown",
   "id": "2ac2f339",
   "metadata": {},
   "source": [
    "- c) Error"
   ]
  },
  {
   "cell_type": "markdown",
   "id": "4c2ae832",
   "metadata": {},
   "source": [
    "- d) Només afegeix un element"
   ]
  },
  {
   "cell_type": "markdown",
   "id": "ab75ca2a",
   "metadata": {},
   "source": [
    "**Pregunta 3:** Com pots ordenar una llista en ordre ascendent?\n",
    "```python\n",
    "llista = [3, 1, 2]\n",
    "llista.sort()\n",
    "print(llista)\n",
    "```"
   ]
  },
  {
   "cell_type": "markdown",
   "id": "82a3bbea",
   "metadata": {},
   "source": [
    "- a) [1, 2, 3] - CORRECTE, el .sort() ordena la llista"
   ]
  },
  {
   "cell_type": "markdown",
   "id": "c5794123",
   "metadata": {},
   "source": [
    "- b) [3, 2, 1]"
   ]
  },
  {
   "cell_type": "markdown",
   "id": "9dfb6df9",
   "metadata": {},
   "source": [
    "- c) Error"
   ]
  },
  {
   "cell_type": "markdown",
   "id": "f58cf45e",
   "metadata": {},
   "source": [
    "- d) No canvia l'ordre"
   ]
  },
  {
   "cell_type": "markdown",
   "id": "d9a8d043",
   "metadata": {},
   "source": [
    "**Pregunta 4:** Com pots invertir l'ordre dels elements d'una llista?\n",
    "```python\n",
    "llista = [1, 2, 3]\n",
    "llista.reverse()\n",
    "print(llista)\n",
    "```"
   ]
  },
  {
   "cell_type": "markdown",
   "id": "38b18d8f",
   "metadata": {},
   "source": [
    "- a) [3, 2, 1] - CORRECTE, .reverse() inverteix l'ordre de la llista"
   ]
  },
  {
   "cell_type": "markdown",
   "id": "d63ce01e",
   "metadata": {},
   "source": [
    "- b) [1, 2, 3]"
   ]
  },
  {
   "cell_type": "markdown",
   "id": "d431b8e0",
   "metadata": {},
   "source": [
    "- c) Error"
   ]
  },
  {
   "cell_type": "markdown",
   "id": "01c03e61",
   "metadata": {},
   "source": [
    "- d) Només canvia el primer element"
   ]
  },
  {
   "cell_type": "markdown",
   "id": "0dc11314",
   "metadata": {},
   "source": [
    "**Pregunta 5:** Com pots accedir al primer element d'una llista?\n",
    "```python\n",
    "llista = [10, 20, 30]\n",
    "print(llista[0])\n",
    "```"
   ]
  },
  {
   "cell_type": "markdown",
   "id": "47d21443",
   "metadata": {},
   "source": [
    "- a) 10 - CORRECTE - Utilitzant l'index 0, que es el primer de la llista"
   ]
  },
  {
   "cell_type": "markdown",
   "id": "6709324c",
   "metadata": {},
   "source": [
    "- b) 30"
   ]
  },
  {
   "cell_type": "markdown",
   "id": "7202f4bf",
   "metadata": {},
   "source": [
    "- c) Error"
   ]
  },
  {
   "cell_type": "markdown",
   "id": "6ff38d69",
   "metadata": {},
   "source": [
    "- d) Només accedeix a l'últim element"
   ]
  },
  {
   "cell_type": "markdown",
   "id": "103c39ee",
   "metadata": {},
   "source": [
    "## Nivell Avançat"
   ]
  },
  {
   "cell_type": "markdown",
   "id": "c862b2a5",
   "metadata": {},
   "source": [
    "**Pregunta 1:** Com pots eliminar duplicats d'una llista mantenint l'ordre?\n",
    "```python\n",
    "llista = [1, 2, 2, 3]\n",
    "llista = list(dict.fromkeys(llista))\n",
    "print(llista)\n",
    "```"
   ]
  },
  {
   "cell_type": "markdown",
   "id": "8edab421",
   "metadata": {},
   "source": [
    "- a) [1, 2, 3] - CORRECTE - utilitzant el dict.fromkeys()"
   ]
  },
  {
   "cell_type": "markdown",
   "id": "8303ad4d",
   "metadata": {},
   "source": [
    "- b) [1, 2, 2, 3]"
   ]
  },
  {
   "cell_type": "markdown",
   "id": "16760dc9",
   "metadata": {},
   "source": [
    "- c) Error"
   ]
  },
  {
   "cell_type": "markdown",
   "id": "dd7479c1",
   "metadata": {},
   "source": [
    "- d) [1, 3, 2]"
   ]
  },
  {
   "cell_type": "markdown",
   "id": "1305f595",
   "metadata": {},
   "source": [
    "**Pregunta 2:** Com pots combinar dues llistes en una sola?\n",
    "```python\n",
    "llista1 = [1, 2]\n",
    "llista2 = [3, 4]\n",
    "llista_comb = llista1 + llista2\n",
    "print(llista_comb)\n",
    "```"
   ]
  },
  {
   "cell_type": "markdown",
   "id": "8546dbdf",
   "metadata": {},
   "source": [
    "- a) [1, 2, 3, 4] - CORRECTE , simplement sumant una llista a l'altre. "
   ]
  },
  {
   "cell_type": "markdown",
   "id": "a5ca2e15",
   "metadata": {},
   "source": [
    "- b) [1, 2]"
   ]
  },
  {
   "cell_type": "markdown",
   "id": "6d143baf",
   "metadata": {},
   "source": [
    "- c) Error"
   ]
  },
  {
   "cell_type": "markdown",
   "id": "a93b9cc1",
   "metadata": {},
   "source": [
    "- d) Només afegeix els primers elements"
   ]
  },
  {
   "cell_type": "markdown",
   "id": "0dd5e870",
   "metadata": {},
   "source": [
    "**Pregunta 3:** Quin mètode retorna una llista en ordre invers sense modificar l'original?\n",
    "```python\n",
    "llista = [1, 2, 3]\n",
    "nova_llista = llista[::-1]\n",
    "print(nova_llista)\n",
    "```"
   ]
  },
  {
   "cell_type": "markdown",
   "id": "66eba6d7",
   "metadata": {},
   "source": [
    "- a) [3, 2, 1] - CORRECTE per no podificar l'original creem una variabvle amb una copia on l'ordenam. "
   ]
  },
  {
   "cell_type": "markdown",
   "id": "a123dae9",
   "metadata": {},
   "source": [
    "- b) [1, 2, 3]"
   ]
  },
  {
   "cell_type": "markdown",
   "id": "23bda328",
   "metadata": {},
   "source": [
    "- c) Error"
   ]
  },
  {
   "cell_type": "markdown",
   "id": "87063ae6",
   "metadata": {},
   "source": [
    "- d) Només canvia l'original"
   ]
  },
  {
   "cell_type": "markdown",
   "id": "4c2766d7",
   "metadata": {},
   "source": [
    "**Pregunta 4:** Com pots iterar una llista amb l'índex i el valor a la vegada?\n",
    "```python\n",
    "llista = [10, 20, 30]\n",
    "for i, valor in enumerate(llista):\n",
    "    print(i, valor)\n",
    "```"
   ]
  },
  {
   "cell_type": "markdown",
   "id": "94303adc",
   "metadata": {},
   "source": [
    "- a) Utilitzant enumerate() - CORRECTE"
   ]
  },
  {
   "cell_type": "markdown",
   "id": "64261231",
   "metadata": {},
   "source": [
    "- b) Utilitzant range()"
   ]
  },
  {
   "cell_type": "markdown",
   "id": "41a7b6e3",
   "metadata": {},
   "source": [
    "- c) Només es pot iterar sobre valors"
   ]
  },
  {
   "cell_type": "markdown",
   "id": "6b6283f8",
   "metadata": {},
   "source": [
    "- d) Error"
   ]
  },
  {
   "cell_type": "markdown",
   "id": "26ea3b17",
   "metadata": {},
   "source": [
    "**Pregunta 5:** Com pots utilitzar una comprensió de llistes per obtenir els quadrats dels elements?\n",
    "```python\n",
    "llista = [1, 2, 3]\n",
    "quadrats = [x**2 per x in llista]\n",
    "print(quadrats)\n",
    "```"
   ]
  },
  {
   "cell_type": "markdown",
   "id": "8fd919ea",
   "metadata": {},
   "source": [
    "- a) [1, 4, 9] - CORRECTE"
   ]
  },
  {
   "cell_type": "markdown",
   "id": "6ee3ff6d",
   "metadata": {},
   "source": [
    "- b) [1, 2, 3]"
   ]
  },
  {
   "cell_type": "markdown",
   "id": "fd84b5e9",
   "metadata": {},
   "source": [
    "- c) [2, 4, 6]"
   ]
  },
  {
   "cell_type": "markdown",
   "id": "436a78c9",
   "metadata": {},
   "source": [
    "- d) Només retorna els valors originals"
   ]
  }
 ],
 "metadata": {
  "language_info": {
   "name": "python"
  }
 },
 "nbformat": 4,
 "nbformat_minor": 5
}
